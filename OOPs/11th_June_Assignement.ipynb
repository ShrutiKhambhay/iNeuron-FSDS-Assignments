{
  "nbformat": 4,
  "nbformat_minor": 0,
  "metadata": {
    "colab": {
      "provenance": []
    },
    "kernelspec": {
      "name": "python3",
      "display_name": "Python 3"
    },
    "language_info": {
      "name": "python"
    }
  },
  "cells": [
    {
      "cell_type": "markdown",
      "source": [
        "1) Lambda function is an anonymous function that takes many arguments and returns one\n",
        "expression. It differs from normal functions because there is no specific function name and it does\n",
        "not involve parentheses.\n"
      ],
      "metadata": {
        "id": "-2lD7fi9rESg"
      }
    },
    {
      "cell_type": "markdown",
      "source": [
        "2) Yes, Lambda function can have multiple arguments. They can be defined as single line\n",
        "functions and used to return a single result."
      ],
      "metadata": {
        "id": "gjK_xKwWPo6w"
      }
    },
    {
      "cell_type": "markdown",
      "source": [
        "3) Syntax → lambda arguments : expression\n",
        "Eg. lambda x : x+5"
      ],
      "metadata": {
        "id": "28d0n5AiPuj6"
      }
    },
    {
      "cell_type": "markdown",
      "source": [
        "4) Avantages:\n",
        "• Concise code\n",
        "• No function name\n",
        "• Single line expression\n",
        "\n",
        "Disadvantages:\n",
        "• Can contain only one line\n",
        "• Complex problem cannot be handled\n",
        "• Difficult to understand"
      ],
      "metadata": {
        "id": "sqwizC54P0TO"
      }
    },
    {
      "cell_type": "markdown",
      "source": [
        "5) No, lambda functions cannot access variables defined outside the scope"
      ],
      "metadata": {
        "id": "7N55I8JaP-nc"
      }
    },
    {
      "cell_type": "code",
      "source": [
        "#6)\n",
        "number = int(input())\n",
        "square = lambda x: x**2\n",
        "print(square(number))"
      ],
      "metadata": {
        "colab": {
          "base_uri": "https://localhost:8080/"
        },
        "id": "YMnTciACQIE_",
        "outputId": "2bc76efc-717e-49c6-8a66-7af1755f7892"
      },
      "execution_count": 25,
      "outputs": [
        {
          "output_type": "stream",
          "name": "stdout",
          "text": [
            "2\n",
            "4\n"
          ]
        }
      ]
    },
    {
      "cell_type": "code",
      "source": [
        "#7)\n",
        "list = [20, 10, 20, 4, 100]\n",
        "print(max(list, key=lambda value: int(value)))"
      ],
      "metadata": {
        "colab": {
          "base_uri": "https://localhost:8080/"
        },
        "id": "EbNeWnPlQ5nF",
        "outputId": "854a3baf-a190-47bc-9413-79a24a3bac86"
      },
      "execution_count": 8,
      "outputs": [
        {
          "output_type": "stream",
          "name": "stdout",
          "text": [
            "100\n"
          ]
        }
      ]
    },
    {
      "cell_type": "code",
      "source": [
        "#8)\n",
        "nums = [1, 2, 3, 4, 5, 6, 7, 8, 9, 10]\n",
        "even_nums = list(filter(lambda x: x % 2 == 0, nums))\n",
        "print(even_nums)"
      ],
      "metadata": {
        "id": "83eKgjAPRFyZ"
      },
      "execution_count": null,
      "outputs": []
    },
    {
      "cell_type": "code",
      "source": [
        "#9)\n",
        "myList = [\"Chennai\",\"Trichy\",\"Madurai\",\"Karaikal\",\"Puducherry\",\"Coimbatore\"]\n",
        "sortedList = sorted(myList, key=lambda x: len(x))\n",
        "print(sortedList)"
      ],
      "metadata": {
        "id": "e2AKpnefRKEu"
      },
      "execution_count": null,
      "outputs": []
    },
    {
      "cell_type": "code",
      "source": [
        "#10)\n",
        "list1 = [1, 2, 3, 5, 7, 8, 9, 10]\n",
        "list2 = [1, 2, 4, 8, 9]\n",
        "result = list(filter(lambda x: x in list1, list2))\n",
        "print (result)"
      ],
      "metadata": {
        "id": "kEvvWxNHShTc"
      },
      "execution_count": null,
      "outputs": []
    },
    {
      "cell_type": "code",
      "source": [
        "#11)\n",
        "def factorial(n):\n",
        "  if n == 0:\n",
        "    return 1\n",
        "  return n * factorial(n-1)\n",
        "num = intput(int());\n",
        "print(factorial(num))"
      ],
      "metadata": {
        "id": "IxfVRWFvTDqN"
      },
      "execution_count": null,
      "outputs": []
    },
    {
      "cell_type": "code",
      "source": [
        "#12)\n",
        "def Fibonacci(n):\n",
        "  if n<= 0:\n",
        "    print(\"Incorrect input\")\n",
        "  elif n == 1:\n",
        "    return 0\n",
        "  elif n == 2:\n",
        "    return 1\n",
        "  else:\n",
        "    return Fibonacci(n-1)+Fibonacci(n-2)\n",
        "num= input(int())\n",
        "print(Fibonacci(num))"
      ],
      "metadata": {
        "id": "rxRDoL_OTkdP"
      },
      "execution_count": null,
      "outputs": []
    },
    {
      "cell_type": "code",
      "source": [
        "#13)\n",
        "list1 = [1,2,3,4,5]\n",
        "def sumOfList(list, size):\n",
        "  if (size == 0):\n",
        "    return 0\n",
        "  else:\n",
        "    return list[size - 1] + sumOfList(list, size - 1)\n",
        "result = sumOfList(list1, len(list1))\n",
        "print(\"Sum of all elements in given list: \", result)"
      ],
      "metadata": {
        "id": "FzgtYQFFTxm-"
      },
      "execution_count": 30,
      "outputs": []
    },
    {
      "cell_type": "code",
      "source": [
        "#14)\n",
        "def isPalindrome(str, i):\n",
        "  if(i > len(str)/2):\n",
        "    return True\n",
        "  ans = False\n",
        "  if((str[i] is str[len(str) - i - 1]) and isPalindrome(str, i + 1)):\n",
        "    ans = True\n",
        "  return ans\n",
        "\n",
        "\n",
        "intstr = input(str())\n",
        "if (isPalindrome(intstr, 0)):\n",
        "  print(\"Yes\")\n",
        "else:\n",
        "  print(\"No\")"
      ],
      "metadata": {
        "colab": {
          "base_uri": "https://localhost:8080/"
        },
        "id": "_PHWJuHwTz9p",
        "outputId": "5bec9c53-fce9-4f39-a064-d1b78e469708"
      },
      "execution_count": 31,
      "outputs": [
        {
          "output_type": "stream",
          "name": "stdout",
          "text": [
            "madam\n",
            "Yes\n"
          ]
        }
      ]
    },
    {
      "cell_type": "code",
      "source": [
        "#15)\n",
        "def hcf(a,b):\n",
        "  if (b == 0):\n",
        "    return a\n",
        "  else:\n",
        "    return hcf(b,a%b)\n",
        "a = input(int())\n",
        "b = input(int())\n",
        "print(hcf(a, b))"
      ],
      "metadata": {
        "id": "hdv90oVuUZxc"
      },
      "execution_count": null,
      "outputs": []
    }
  ]
}